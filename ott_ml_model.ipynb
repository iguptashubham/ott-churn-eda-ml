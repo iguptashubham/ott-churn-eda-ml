{
  "cells": [
    {
      "cell_type": "markdown",
      "id": "c40b0b21-808a-4b41-85ba-f0a5e2f7646c",
      "metadata": {
        "id": "c40b0b21-808a-4b41-85ba-f0a5e2f7646c"
      },
      "source": [
        "# Streaming OTT  Subscription"
      ]
    },
    {
      "cell_type": "markdown",
      "id": "f43c6b4f-8479-4352-ad42-66f0398699d7",
      "metadata": {
        "id": "f43c6b4f-8479-4352-ad42-66f0398699d7"
      },
      "source": [
        "For this analysis, we'll be examining customer churn data from a leading subscription-based streaming service. This industry giant boasts a vast library of movies, TV shows, and original content. Understanding why customers discontinue their subscriptions will be crucial in optimizing the user experience, reducing churn, and maximizing customer lifetime value."
      ]
    },
    {
      "cell_type": "markdown",
      "id": "6b2dc639-a5ce-4a9b-84fa-08b0014b3cf6",
      "metadata": {
        "id": "6b2dc639-a5ce-4a9b-84fa-08b0014b3cf6"
      },
      "source": [
        "## About the Data"
      ]
    },
    {
      "cell_type": "markdown",
      "id": "b15472fa-4c6a-449e-9e10-28d4d9c2638b",
      "metadata": {
        "id": "b15472fa-4c6a-449e-9e10-28d4d9c2638b"
      },
      "source": [
        "| Feature                  | Description                                            |\n",
        "|--------------------------|--------------------------------------------------------|\n",
        "| CustomerID               | Unique identifier for each customer                    |\n",
        "| SubscriptionType         | Type of subscription plan chosen by the customer      |\n",
        "| PaymentMethod            | Method used for payment                                |\n",
        "| PaperlessBilling         | Whether the customer uses paperless billing            |\n",
        "| ContentType              | Type of content accessed by the customer               |\n",
        "| MultiDeviceAccess        | Whether the customer has access on multiple devices   |\n",
        "| DeviceRegistered         | Device registered by the customer                      |\n",
        "| GenrePreference          | Genre preference of the customer                       |\n",
        "| Gender                   | Gender of the customer                                 |\n",
        "| ParentalControl          | Whether parental control is enabled                    |\n",
        "| SubtitlesEnabled         | Whether subtitles are enabled                          |\n",
        "| AccountAge               | Age of the customer's subscription account (in months) |\n",
        "| MonthlyCharges           | Monthly subscription charges                           |\n",
        "| TotalCharges             | Total charges incurred by the customer                 |\n",
        "| ViewingHoursPerWeek      | Average number of viewing hours per week               |\n",
        "| SupportTicketsPerMonth   | Number of customer support tickets raised per month    |\n",
        "| AverageViewingDuration   | Average duration of each viewing session               |\n",
        "| ContentDownloadsPerMonth | Number of content downloads per month                  |\n",
        "| UserRating               | Customer satisfaction rating (1 to 5)                  |\n",
        "| WatchlistSize            | Size of the customer's content watchlist               |\n",
        "| Churn                    | Situation of customer churn or not (target variable)    |\n"
      ]
    },
    {
      "cell_type": "markdown",
      "id": "95fb8866-e272-440f-95c5-a0fbe9758875",
      "metadata": {
        "id": "95fb8866-e272-440f-95c5-a0fbe9758875"
      },
      "source": [
        "# Objective"
      ]
    },
    {
      "cell_type": "markdown",
      "id": "468c5dbd-7ac5-404d-9c8b-097cd26b9f1f",
      "metadata": {
        "id": "468c5dbd-7ac5-404d-9c8b-097cd26b9f1f"
      },
      "source": [
        "- Machine learning model for predicting Customer Churn"
      ]
    },
    {
      "cell_type": "markdown",
      "id": "b4933c6d-217d-44b9-94fe-4bf24e87da39",
      "metadata": {
        "id": "b4933c6d-217d-44b9-94fe-4bf24e87da39"
      },
      "source": [
        "# Importing Dependencies"
      ]
    },
    {
      "cell_type": "code",
      "execution_count": 18,
      "id": "e7dfcba3-70dd-4f00-832b-91477a6236f1",
      "metadata": {
        "id": "e7dfcba3-70dd-4f00-832b-91477a6236f1"
      },
      "outputs": [],
      "source": [
        "import pandas as pd\n",
        "import numpy as np\n",
        "import matplotlib.pyplot as plt\n",
        "\n",
        "#Preprocessing\n",
        "from sklearn.model_selection import train_test_split, cross_val_score\n",
        "from sklearn.preprocessing import OneHotEncoder,OrdinalEncoder\n",
        "from sklearn.preprocessing import StandardScaler\n",
        "\n",
        "#pipeline\n",
        "from sklearn.compose import ColumnTransformer\n",
        "from sklearn.pipeline import Pipeline\n",
        "\n",
        "#model\n",
        "from sklearn.linear_model import SGDClassifier\n",
        "from sklearn.tree import DecisionTreeClassifier,ExtraTreeClassifier\n",
        "from sklearn.ensemble import RandomForestClassifier, GradientBoostingClassifier,StackingClassifier\n",
        "from xgboost import XGBClassifier\n",
        "from lightgbm import LGBMClassifier\n",
        "\n",
        "#metric\n",
        "from sklearn.metrics import accuracy_score, precision_score, confusion_matrix"
      ]
    },
    {
      "cell_type": "markdown",
      "id": "f833fc6b-8f9d-4c7f-9638-af5b3e6e9817",
      "metadata": {
        "id": "f833fc6b-8f9d-4c7f-9638-af5b3e6e9817"
      },
      "source": [
        "## Load the Data"
      ]
    },
    {
      "cell_type": "code",
      "execution_count": 2,
      "id": "5f68a7b6-7ddf-42fa-b0b4-a66c789f6566",
      "metadata": {
        "id": "5f68a7b6-7ddf-42fa-b0b4-a66c789f6566"
      },
      "outputs": [],
      "source": [
        "df = pd.read_csv('/content/drive/MyDrive/ott_ml/ott_subscription.csv')"
      ]
    },
    {
      "cell_type": "code",
      "execution_count": 3,
      "id": "fe799de9-c7e1-43bf-b932-c1ed565e3abc",
      "metadata": {
        "colab": {
          "base_uri": "https://localhost:8080/",
          "height": 290
        },
        "id": "fe799de9-c7e1-43bf-b932-c1ed565e3abc",
        "outputId": "27f2c2c9-fa5b-450d-bcd8-ea33fd4d5fa5"
      },
      "outputs": [
        {
          "output_type": "execute_result",
          "data": {
            "text/plain": [
              "   AccountAge  MonthlyCharges  TotalCharges SubscriptionType  \\\n",
              "0          20       11.055215    221.104302          Premium   \n",
              "1          57        5.175208    294.986882            Basic   \n",
              "2          73       12.106657    883.785952            Basic   \n",
              "3          32        7.263743    232.439774            Basic   \n",
              "4          57       16.953078    966.325422          Premium   \n",
              "\n",
              "      PaymentMethod PaperlessBilling ContentType MultiDeviceAccess  \\\n",
              "0      Mailed check               No        Both                No   \n",
              "1       Credit card              Yes      Movies                No   \n",
              "2      Mailed check              Yes      Movies                No   \n",
              "3  Electronic check               No    TV Shows                No   \n",
              "4  Electronic check              Yes    TV Shows                No   \n",
              "\n",
              "  DeviceRegistered  ViewingHoursPerWeek  ...  ContentDownloadsPerMonth  \\\n",
              "0           Mobile            36.758104  ...                        10   \n",
              "1           Tablet            32.450568  ...                        18   \n",
              "2         Computer             7.395160  ...                        23   \n",
              "3           Tablet            27.960389  ...                        30   \n",
              "4               TV            20.083397  ...                        20   \n",
              "\n",
              "   GenrePreference UserRating  SupportTicketsPerMonth  Gender WatchlistSize  \\\n",
              "0           Sci-Fi   2.176498                       4    Male             3   \n",
              "1           Action   3.478632                       8    Male            23   \n",
              "2          Fantasy   4.238824                       6    Male             1   \n",
              "3            Drama   4.276013                       2    Male            24   \n",
              "4           Comedy   3.616170                       4  Female             0   \n",
              "\n",
              "   ParentalControl SubtitlesEnabled  CustomerID Churn  \n",
              "0               No               No  CB6SXPNVZA   0.0  \n",
              "1               No              Yes  S7R2G87O09   0.0  \n",
              "2              Yes              Yes  EASDC20BDT   0.0  \n",
              "3              Yes              Yes  NPF69NT69N   0.0  \n",
              "4               No               No  4LGYPK7VOL   0.0  \n",
              "\n",
              "[5 rows x 21 columns]"
            ],
            "text/html": [
              "\n",
              "  <div id=\"df-b4f455ce-80fc-443a-af30-234226269443\" class=\"colab-df-container\">\n",
              "    <div>\n",
              "<style scoped>\n",
              "    .dataframe tbody tr th:only-of-type {\n",
              "        vertical-align: middle;\n",
              "    }\n",
              "\n",
              "    .dataframe tbody tr th {\n",
              "        vertical-align: top;\n",
              "    }\n",
              "\n",
              "    .dataframe thead th {\n",
              "        text-align: right;\n",
              "    }\n",
              "</style>\n",
              "<table border=\"1\" class=\"dataframe\">\n",
              "  <thead>\n",
              "    <tr style=\"text-align: right;\">\n",
              "      <th></th>\n",
              "      <th>AccountAge</th>\n",
              "      <th>MonthlyCharges</th>\n",
              "      <th>TotalCharges</th>\n",
              "      <th>SubscriptionType</th>\n",
              "      <th>PaymentMethod</th>\n",
              "      <th>PaperlessBilling</th>\n",
              "      <th>ContentType</th>\n",
              "      <th>MultiDeviceAccess</th>\n",
              "      <th>DeviceRegistered</th>\n",
              "      <th>ViewingHoursPerWeek</th>\n",
              "      <th>...</th>\n",
              "      <th>ContentDownloadsPerMonth</th>\n",
              "      <th>GenrePreference</th>\n",
              "      <th>UserRating</th>\n",
              "      <th>SupportTicketsPerMonth</th>\n",
              "      <th>Gender</th>\n",
              "      <th>WatchlistSize</th>\n",
              "      <th>ParentalControl</th>\n",
              "      <th>SubtitlesEnabled</th>\n",
              "      <th>CustomerID</th>\n",
              "      <th>Churn</th>\n",
              "    </tr>\n",
              "  </thead>\n",
              "  <tbody>\n",
              "    <tr>\n",
              "      <th>0</th>\n",
              "      <td>20</td>\n",
              "      <td>11.055215</td>\n",
              "      <td>221.104302</td>\n",
              "      <td>Premium</td>\n",
              "      <td>Mailed check</td>\n",
              "      <td>No</td>\n",
              "      <td>Both</td>\n",
              "      <td>No</td>\n",
              "      <td>Mobile</td>\n",
              "      <td>36.758104</td>\n",
              "      <td>...</td>\n",
              "      <td>10</td>\n",
              "      <td>Sci-Fi</td>\n",
              "      <td>2.176498</td>\n",
              "      <td>4</td>\n",
              "      <td>Male</td>\n",
              "      <td>3</td>\n",
              "      <td>No</td>\n",
              "      <td>No</td>\n",
              "      <td>CB6SXPNVZA</td>\n",
              "      <td>0.0</td>\n",
              "    </tr>\n",
              "    <tr>\n",
              "      <th>1</th>\n",
              "      <td>57</td>\n",
              "      <td>5.175208</td>\n",
              "      <td>294.986882</td>\n",
              "      <td>Basic</td>\n",
              "      <td>Credit card</td>\n",
              "      <td>Yes</td>\n",
              "      <td>Movies</td>\n",
              "      <td>No</td>\n",
              "      <td>Tablet</td>\n",
              "      <td>32.450568</td>\n",
              "      <td>...</td>\n",
              "      <td>18</td>\n",
              "      <td>Action</td>\n",
              "      <td>3.478632</td>\n",
              "      <td>8</td>\n",
              "      <td>Male</td>\n",
              "      <td>23</td>\n",
              "      <td>No</td>\n",
              "      <td>Yes</td>\n",
              "      <td>S7R2G87O09</td>\n",
              "      <td>0.0</td>\n",
              "    </tr>\n",
              "    <tr>\n",
              "      <th>2</th>\n",
              "      <td>73</td>\n",
              "      <td>12.106657</td>\n",
              "      <td>883.785952</td>\n",
              "      <td>Basic</td>\n",
              "      <td>Mailed check</td>\n",
              "      <td>Yes</td>\n",
              "      <td>Movies</td>\n",
              "      <td>No</td>\n",
              "      <td>Computer</td>\n",
              "      <td>7.395160</td>\n",
              "      <td>...</td>\n",
              "      <td>23</td>\n",
              "      <td>Fantasy</td>\n",
              "      <td>4.238824</td>\n",
              "      <td>6</td>\n",
              "      <td>Male</td>\n",
              "      <td>1</td>\n",
              "      <td>Yes</td>\n",
              "      <td>Yes</td>\n",
              "      <td>EASDC20BDT</td>\n",
              "      <td>0.0</td>\n",
              "    </tr>\n",
              "    <tr>\n",
              "      <th>3</th>\n",
              "      <td>32</td>\n",
              "      <td>7.263743</td>\n",
              "      <td>232.439774</td>\n",
              "      <td>Basic</td>\n",
              "      <td>Electronic check</td>\n",
              "      <td>No</td>\n",
              "      <td>TV Shows</td>\n",
              "      <td>No</td>\n",
              "      <td>Tablet</td>\n",
              "      <td>27.960389</td>\n",
              "      <td>...</td>\n",
              "      <td>30</td>\n",
              "      <td>Drama</td>\n",
              "      <td>4.276013</td>\n",
              "      <td>2</td>\n",
              "      <td>Male</td>\n",
              "      <td>24</td>\n",
              "      <td>Yes</td>\n",
              "      <td>Yes</td>\n",
              "      <td>NPF69NT69N</td>\n",
              "      <td>0.0</td>\n",
              "    </tr>\n",
              "    <tr>\n",
              "      <th>4</th>\n",
              "      <td>57</td>\n",
              "      <td>16.953078</td>\n",
              "      <td>966.325422</td>\n",
              "      <td>Premium</td>\n",
              "      <td>Electronic check</td>\n",
              "      <td>Yes</td>\n",
              "      <td>TV Shows</td>\n",
              "      <td>No</td>\n",
              "      <td>TV</td>\n",
              "      <td>20.083397</td>\n",
              "      <td>...</td>\n",
              "      <td>20</td>\n",
              "      <td>Comedy</td>\n",
              "      <td>3.616170</td>\n",
              "      <td>4</td>\n",
              "      <td>Female</td>\n",
              "      <td>0</td>\n",
              "      <td>No</td>\n",
              "      <td>No</td>\n",
              "      <td>4LGYPK7VOL</td>\n",
              "      <td>0.0</td>\n",
              "    </tr>\n",
              "  </tbody>\n",
              "</table>\n",
              "<p>5 rows × 21 columns</p>\n",
              "</div>\n",
              "    <div class=\"colab-df-buttons\">\n",
              "\n",
              "  <div class=\"colab-df-container\">\n",
              "    <button class=\"colab-df-convert\" onclick=\"convertToInteractive('df-b4f455ce-80fc-443a-af30-234226269443')\"\n",
              "            title=\"Convert this dataframe to an interactive table.\"\n",
              "            style=\"display:none;\">\n",
              "\n",
              "  <svg xmlns=\"http://www.w3.org/2000/svg\" height=\"24px\" viewBox=\"0 -960 960 960\">\n",
              "    <path d=\"M120-120v-720h720v720H120Zm60-500h600v-160H180v160Zm220 220h160v-160H400v160Zm0 220h160v-160H400v160ZM180-400h160v-160H180v160Zm440 0h160v-160H620v160ZM180-180h160v-160H180v160Zm440 0h160v-160H620v160Z\"/>\n",
              "  </svg>\n",
              "    </button>\n",
              "\n",
              "  <style>\n",
              "    .colab-df-container {\n",
              "      display:flex;\n",
              "      gap: 12px;\n",
              "    }\n",
              "\n",
              "    .colab-df-convert {\n",
              "      background-color: #E8F0FE;\n",
              "      border: none;\n",
              "      border-radius: 50%;\n",
              "      cursor: pointer;\n",
              "      display: none;\n",
              "      fill: #1967D2;\n",
              "      height: 32px;\n",
              "      padding: 0 0 0 0;\n",
              "      width: 32px;\n",
              "    }\n",
              "\n",
              "    .colab-df-convert:hover {\n",
              "      background-color: #E2EBFA;\n",
              "      box-shadow: 0px 1px 2px rgba(60, 64, 67, 0.3), 0px 1px 3px 1px rgba(60, 64, 67, 0.15);\n",
              "      fill: #174EA6;\n",
              "    }\n",
              "\n",
              "    .colab-df-buttons div {\n",
              "      margin-bottom: 4px;\n",
              "    }\n",
              "\n",
              "    [theme=dark] .colab-df-convert {\n",
              "      background-color: #3B4455;\n",
              "      fill: #D2E3FC;\n",
              "    }\n",
              "\n",
              "    [theme=dark] .colab-df-convert:hover {\n",
              "      background-color: #434B5C;\n",
              "      box-shadow: 0px 1px 3px 1px rgba(0, 0, 0, 0.15);\n",
              "      filter: drop-shadow(0px 1px 2px rgba(0, 0, 0, 0.3));\n",
              "      fill: #FFFFFF;\n",
              "    }\n",
              "  </style>\n",
              "\n",
              "    <script>\n",
              "      const buttonEl =\n",
              "        document.querySelector('#df-b4f455ce-80fc-443a-af30-234226269443 button.colab-df-convert');\n",
              "      buttonEl.style.display =\n",
              "        google.colab.kernel.accessAllowed ? 'block' : 'none';\n",
              "\n",
              "      async function convertToInteractive(key) {\n",
              "        const element = document.querySelector('#df-b4f455ce-80fc-443a-af30-234226269443');\n",
              "        const dataTable =\n",
              "          await google.colab.kernel.invokeFunction('convertToInteractive',\n",
              "                                                    [key], {});\n",
              "        if (!dataTable) return;\n",
              "\n",
              "        const docLinkHtml = 'Like what you see? Visit the ' +\n",
              "          '<a target=\"_blank\" href=https://colab.research.google.com/notebooks/data_table.ipynb>data table notebook</a>'\n",
              "          + ' to learn more about interactive tables.';\n",
              "        element.innerHTML = '';\n",
              "        dataTable['output_type'] = 'display_data';\n",
              "        await google.colab.output.renderOutput(dataTable, element);\n",
              "        const docLink = document.createElement('div');\n",
              "        docLink.innerHTML = docLinkHtml;\n",
              "        element.appendChild(docLink);\n",
              "      }\n",
              "    </script>\n",
              "  </div>\n",
              "\n",
              "\n",
              "<div id=\"df-e661b71b-4684-452b-a573-e4beb1dd2a54\">\n",
              "  <button class=\"colab-df-quickchart\" onclick=\"quickchart('df-e661b71b-4684-452b-a573-e4beb1dd2a54')\"\n",
              "            title=\"Suggest charts\"\n",
              "            style=\"display:none;\">\n",
              "\n",
              "<svg xmlns=\"http://www.w3.org/2000/svg\" height=\"24px\"viewBox=\"0 0 24 24\"\n",
              "     width=\"24px\">\n",
              "    <g>\n",
              "        <path d=\"M19 3H5c-1.1 0-2 .9-2 2v14c0 1.1.9 2 2 2h14c1.1 0 2-.9 2-2V5c0-1.1-.9-2-2-2zM9 17H7v-7h2v7zm4 0h-2V7h2v10zm4 0h-2v-4h2v4z\"/>\n",
              "    </g>\n",
              "</svg>\n",
              "  </button>\n",
              "\n",
              "<style>\n",
              "  .colab-df-quickchart {\n",
              "      --bg-color: #E8F0FE;\n",
              "      --fill-color: #1967D2;\n",
              "      --hover-bg-color: #E2EBFA;\n",
              "      --hover-fill-color: #174EA6;\n",
              "      --disabled-fill-color: #AAA;\n",
              "      --disabled-bg-color: #DDD;\n",
              "  }\n",
              "\n",
              "  [theme=dark] .colab-df-quickchart {\n",
              "      --bg-color: #3B4455;\n",
              "      --fill-color: #D2E3FC;\n",
              "      --hover-bg-color: #434B5C;\n",
              "      --hover-fill-color: #FFFFFF;\n",
              "      --disabled-bg-color: #3B4455;\n",
              "      --disabled-fill-color: #666;\n",
              "  }\n",
              "\n",
              "  .colab-df-quickchart {\n",
              "    background-color: var(--bg-color);\n",
              "    border: none;\n",
              "    border-radius: 50%;\n",
              "    cursor: pointer;\n",
              "    display: none;\n",
              "    fill: var(--fill-color);\n",
              "    height: 32px;\n",
              "    padding: 0;\n",
              "    width: 32px;\n",
              "  }\n",
              "\n",
              "  .colab-df-quickchart:hover {\n",
              "    background-color: var(--hover-bg-color);\n",
              "    box-shadow: 0 1px 2px rgba(60, 64, 67, 0.3), 0 1px 3px 1px rgba(60, 64, 67, 0.15);\n",
              "    fill: var(--button-hover-fill-color);\n",
              "  }\n",
              "\n",
              "  .colab-df-quickchart-complete:disabled,\n",
              "  .colab-df-quickchart-complete:disabled:hover {\n",
              "    background-color: var(--disabled-bg-color);\n",
              "    fill: var(--disabled-fill-color);\n",
              "    box-shadow: none;\n",
              "  }\n",
              "\n",
              "  .colab-df-spinner {\n",
              "    border: 2px solid var(--fill-color);\n",
              "    border-color: transparent;\n",
              "    border-bottom-color: var(--fill-color);\n",
              "    animation:\n",
              "      spin 1s steps(1) infinite;\n",
              "  }\n",
              "\n",
              "  @keyframes spin {\n",
              "    0% {\n",
              "      border-color: transparent;\n",
              "      border-bottom-color: var(--fill-color);\n",
              "      border-left-color: var(--fill-color);\n",
              "    }\n",
              "    20% {\n",
              "      border-color: transparent;\n",
              "      border-left-color: var(--fill-color);\n",
              "      border-top-color: var(--fill-color);\n",
              "    }\n",
              "    30% {\n",
              "      border-color: transparent;\n",
              "      border-left-color: var(--fill-color);\n",
              "      border-top-color: var(--fill-color);\n",
              "      border-right-color: var(--fill-color);\n",
              "    }\n",
              "    40% {\n",
              "      border-color: transparent;\n",
              "      border-right-color: var(--fill-color);\n",
              "      border-top-color: var(--fill-color);\n",
              "    }\n",
              "    60% {\n",
              "      border-color: transparent;\n",
              "      border-right-color: var(--fill-color);\n",
              "    }\n",
              "    80% {\n",
              "      border-color: transparent;\n",
              "      border-right-color: var(--fill-color);\n",
              "      border-bottom-color: var(--fill-color);\n",
              "    }\n",
              "    90% {\n",
              "      border-color: transparent;\n",
              "      border-bottom-color: var(--fill-color);\n",
              "    }\n",
              "  }\n",
              "</style>\n",
              "\n",
              "  <script>\n",
              "    async function quickchart(key) {\n",
              "      const quickchartButtonEl =\n",
              "        document.querySelector('#' + key + ' button');\n",
              "      quickchartButtonEl.disabled = true;  // To prevent multiple clicks.\n",
              "      quickchartButtonEl.classList.add('colab-df-spinner');\n",
              "      try {\n",
              "        const charts = await google.colab.kernel.invokeFunction(\n",
              "            'suggestCharts', [key], {});\n",
              "      } catch (error) {\n",
              "        console.error('Error during call to suggestCharts:', error);\n",
              "      }\n",
              "      quickchartButtonEl.classList.remove('colab-df-spinner');\n",
              "      quickchartButtonEl.classList.add('colab-df-quickchart-complete');\n",
              "    }\n",
              "    (() => {\n",
              "      let quickchartButtonEl =\n",
              "        document.querySelector('#df-e661b71b-4684-452b-a573-e4beb1dd2a54 button');\n",
              "      quickchartButtonEl.style.display =\n",
              "        google.colab.kernel.accessAllowed ? 'block' : 'none';\n",
              "    })();\n",
              "  </script>\n",
              "</div>\n",
              "\n",
              "    </div>\n",
              "  </div>\n"
            ],
            "application/vnd.google.colaboratory.intrinsic+json": {
              "type": "dataframe",
              "variable_name": "df"
            }
          },
          "metadata": {},
          "execution_count": 3
        }
      ],
      "source": [
        "df.head()"
      ]
    },
    {
      "cell_type": "code",
      "execution_count": 4,
      "id": "8070c2f0-70f3-4af7-a030-6652c52453b9",
      "metadata": {
        "colab": {
          "base_uri": "https://localhost:8080/"
        },
        "id": "8070c2f0-70f3-4af7-a030-6652c52453b9",
        "outputId": "a52a1ccc-138a-4efc-d2a6-65ea32c904e6"
      },
      "outputs": [
        {
          "output_type": "stream",
          "name": "stderr",
          "text": [
            "<ipython-input-4-326f45d1c9d5>:2: SettingWithCopyWarning: \n",
            "A value is trying to be set on a copy of a slice from a DataFrame\n",
            "\n",
            "See the caveats in the documentation: https://pandas.pydata.org/pandas-docs/stable/user_guide/indexing.html#returning-a-view-versus-a-copy\n",
            "  df.drop('CustomerID', axis = 1, inplace = True)\n"
          ]
        }
      ],
      "source": [
        "df = df.dropna()\n",
        "df.drop('CustomerID', axis = 1, inplace = True)"
      ]
    },
    {
      "cell_type": "markdown",
      "id": "c9523bb6-7899-4ab3-afa0-951e2a194fae",
      "metadata": {
        "id": "c9523bb6-7899-4ab3-afa0-951e2a194fae"
      },
      "source": [
        "# Train Test Split"
      ]
    },
    {
      "cell_type": "code",
      "execution_count": 5,
      "id": "c2a74203-479a-4027-b60f-90b663505aa8",
      "metadata": {
        "id": "c2a74203-479a-4027-b60f-90b663505aa8"
      },
      "outputs": [],
      "source": [
        "x = df.drop('Churn', axis = 1)\n",
        "y = df['Churn']"
      ]
    },
    {
      "cell_type": "code",
      "execution_count": 6,
      "id": "49747b4e-ca03-412f-95c0-044be9e7a437",
      "metadata": {
        "id": "49747b4e-ca03-412f-95c0-044be9e7a437"
      },
      "outputs": [],
      "source": [
        "x_train,x_test,y_train,y_test = train_test_split(x,y,\n",
        "                                                 test_size=0.25, shuffle=True,\n",
        "                                                random_state=42,stratify=y)"
      ]
    },
    {
      "cell_type": "markdown",
      "id": "1a0a2c4a-142b-499c-98fd-81537921e2d1",
      "metadata": {
        "id": "1a0a2c4a-142b-499c-98fd-81537921e2d1"
      },
      "source": [
        "# Column Transformer"
      ]
    },
    {
      "cell_type": "code",
      "execution_count": 7,
      "id": "dceffb79-9269-4a0a-994a-ee87b973db39",
      "metadata": {
        "id": "dceffb79-9269-4a0a-994a-ee87b973db39"
      },
      "outputs": [],
      "source": [
        "column_transform = ColumnTransformer([\n",
        "    ('One_hot', OneHotEncoder(drop='first', sparse_output=False), [4, 5, 6, 7, 8, 12, 15, 17, 18]),\n",
        "    ('Ordinal_encoding', OrdinalEncoder(categories=[['Basic', 'Standard', 'Premium']]), [3]),\n",
        "    ('standard_scaler', StandardScaler(), [0, 1, 2, 9, 10, 11, 13, 14, 16])\n",
        "], remainder='passthrough')"
      ]
    },
    {
      "cell_type": "code",
      "execution_count": 8,
      "id": "25325cc3-1bc7-407b-932a-01af8aa34420",
      "metadata": {
        "id": "25325cc3-1bc7-407b-932a-01af8aa34420"
      },
      "outputs": [],
      "source": [
        "transformed_x_train = column_transform.fit_transform(x_train)"
      ]
    },
    {
      "cell_type": "markdown",
      "id": "62d36057-8cfc-4d12-97ef-0b47488e6eee",
      "metadata": {
        "id": "62d36057-8cfc-4d12-97ef-0b47488e6eee"
      },
      "source": [
        "# Cross Validation"
      ]
    },
    {
      "cell_type": "code",
      "execution_count": 9,
      "id": "27d757a7-9339-4a71-8e93-214d45cf6300",
      "metadata": {
        "id": "27d757a7-9339-4a71-8e93-214d45cf6300"
      },
      "outputs": [],
      "source": [
        "cv_df = pd.DataFrame(transformed_x_train,columns = column_transform.get_feature_names_out())"
      ]
    },
    {
      "cell_type": "code",
      "execution_count": 10,
      "id": "918a4f3b-ab09-469b-8e12-a274f9ff1eb2",
      "metadata": {
        "id": "918a4f3b-ab09-469b-8e12-a274f9ff1eb2"
      },
      "outputs": [],
      "source": [
        "cv_x = cv_df.copy()\n",
        "cv_y = y_train.copy()"
      ]
    },
    {
      "cell_type": "code",
      "execution_count": 15,
      "id": "dc7893df-c8b1-47f1-9d29-d9cecda3cae3",
      "metadata": {
        "id": "dc7893df-c8b1-47f1-9d29-d9cecda3cae3"
      },
      "outputs": [],
      "source": [
        "model_ = [DecisionTreeClassifier(),\n",
        "          ExtraTreeClassifier(),\n",
        "          RandomForestClassifier(),\n",
        "          LGBMClassifier(),\n",
        "          XGBClassifier(learning_rate = 0.01, booster = 'gbtree'),\n",
        "          GradientBoostingClassifier(),\n",
        "          SGDClassifier(loss = 'hinge', penalty='l1', alpha = 0.01, learning_rate='adaptive',max_iter=1080, eta0 = 0.01)\n",
        "]"
      ]
    },
    {
      "cell_type": "code",
      "execution_count": 16,
      "id": "cae2817f-c04a-4a76-bf1a-1b160a36fe40",
      "metadata": {
        "id": "cae2817f-c04a-4a76-bf1a-1b160a36fe40"
      },
      "outputs": [],
      "source": [
        "def cross_validation():\n",
        "    for i in model_:\n",
        "        cvscore = cross_val_score(i,cv_x,cv_y,cv = 5,scoring='accuracy')\n",
        "        scores = print(f'{i.__class__.__name__}, {np.mean(cvscore)}')\n",
        "    return scores"
      ]
    },
    {
      "cell_type": "code",
      "source": [
        "cross_validation()"
      ],
      "metadata": {
        "colab": {
          "base_uri": "https://localhost:8080/"
        },
        "id": "uHDumPYXdp2A",
        "outputId": "994533f7-ffe4-4d5d-933e-74b2e333f599"
      },
      "id": "uHDumPYXdp2A",
      "execution_count": 17,
      "outputs": [
        {
          "output_type": "stream",
          "name": "stdout",
          "text": [
            "DecisionTreeClassifier, 0.7251367315685846\n",
            "ExtraTreeClassifier, 0.7207777291621089\n",
            "RandomForestClassifier, 0.8221341063224678\n",
            "[LightGBM] [Warning] Found whitespace in feature_names, replace with underlines\n",
            "[LightGBM] [Info] Number of positive: 26509, number of negative: 119763\n",
            "[LightGBM] [Info] Auto-choosing row-wise multi-threading, the overhead of testing was 0.017790 seconds.\n",
            "You can set `force_row_wise=true` to remove the overhead.\n",
            "And if memory is not enough, you can set `force_col_wise=true`.\n",
            "[LightGBM] [Info] Total Bins 1520\n",
            "[LightGBM] [Info] Number of data points in the train set: 146272, number of used features: 27\n",
            "[LightGBM] [Info] [binary:BoostFromScore]: pavg=0.181231 -> initscore=-1.508030\n",
            "[LightGBM] [Info] Start training from score -1.508030\n",
            "[LightGBM] [Warning] Found whitespace in feature_names, replace with underlines\n",
            "[LightGBM] [Info] Number of positive: 26509, number of negative: 119763\n",
            "[LightGBM] [Info] Auto-choosing row-wise multi-threading, the overhead of testing was 0.009543 seconds.\n",
            "You can set `force_row_wise=true` to remove the overhead.\n",
            "And if memory is not enough, you can set `force_col_wise=true`.\n",
            "[LightGBM] [Info] Total Bins 1520\n",
            "[LightGBM] [Info] Number of data points in the train set: 146272, number of used features: 27\n",
            "[LightGBM] [Info] [binary:BoostFromScore]: pavg=0.181231 -> initscore=-1.508030\n",
            "[LightGBM] [Info] Start training from score -1.508030\n",
            "[LightGBM] [Warning] Found whitespace in feature_names, replace with underlines\n",
            "[LightGBM] [Info] Number of positive: 26509, number of negative: 119763\n",
            "[LightGBM] [Info] Auto-choosing row-wise multi-threading, the overhead of testing was 0.009677 seconds.\n",
            "You can set `force_row_wise=true` to remove the overhead.\n",
            "And if memory is not enough, you can set `force_col_wise=true`.\n",
            "[LightGBM] [Info] Total Bins 1520\n",
            "[LightGBM] [Info] Number of data points in the train set: 146272, number of used features: 27\n",
            "[LightGBM] [Info] [binary:BoostFromScore]: pavg=0.181231 -> initscore=-1.508030\n",
            "[LightGBM] [Info] Start training from score -1.508030\n",
            "[LightGBM] [Warning] Found whitespace in feature_names, replace with underlines\n",
            "[LightGBM] [Info] Number of positive: 26509, number of negative: 119763\n",
            "[LightGBM] [Info] Auto-choosing row-wise multi-threading, the overhead of testing was 0.009410 seconds.\n",
            "You can set `force_row_wise=true` to remove the overhead.\n",
            "And if memory is not enough, you can set `force_col_wise=true`.\n",
            "[LightGBM] [Info] Total Bins 1520\n",
            "[LightGBM] [Info] Number of data points in the train set: 146272, number of used features: 27\n",
            "[LightGBM] [Info] [binary:BoostFromScore]: pavg=0.181231 -> initscore=-1.508030\n",
            "[LightGBM] [Info] Start training from score -1.508030\n",
            "[LightGBM] [Warning] Found whitespace in feature_names, replace with underlines\n",
            "[LightGBM] [Info] Number of positive: 26508, number of negative: 119764\n",
            "[LightGBM] [Info] Auto-choosing row-wise multi-threading, the overhead of testing was 0.009595 seconds.\n",
            "You can set `force_row_wise=true` to remove the overhead.\n",
            "And if memory is not enough, you can set `force_col_wise=true`.\n",
            "[LightGBM] [Info] Total Bins 1520\n",
            "[LightGBM] [Info] Number of data points in the train set: 146272, number of used features: 27\n",
            "[LightGBM] [Info] [binary:BoostFromScore]: pavg=0.181224 -> initscore=-1.508077\n",
            "[LightGBM] [Info] Start training from score -1.508077\n",
            "LGBMClassifier, 0.823069350251586\n",
            "XGBClassifier, 0.8187814482607745\n",
            "GradientBoostingClassifier, 0.8233920367534455\n",
            "SGDClassifier, 0.8187705097352878\n"
          ]
        }
      ]
    },
    {
      "cell_type": "markdown",
      "source": [
        "# Pipeline"
      ],
      "metadata": {
        "id": "1_OqLzvy-TOs"
      },
      "id": "1_OqLzvy-TOs"
    },
    {
      "cell_type": "code",
      "source": [
        "column_transform = ColumnTransformer([\n",
        "    ('One_hot', OneHotEncoder(drop='first', sparse_output=False), [4, 5, 6, 7, 8, 12, 15, 17, 18]),\n",
        "    ('Ordinal_encoding', OrdinalEncoder(categories=[['Basic', 'Standard', 'Premium']]), [3]),\n",
        "    ('standard_scaler', StandardScaler(), [0, 1, 2, 9, 10, 11, 13, 14, 16])\n",
        "], remainder='passthrough')\n",
        "\n",
        "esti_ = [\n",
        "    ('Random_forest', RandomForestClassifier()),\n",
        "    ('Lightgbm',LGBMClassifier()),\n",
        "    ('Xgboost',XGBClassifier(learning_rate = 0.01, booster = 'gbtree')),\n",
        "    ('Sgd',SGDClassifier(loss = 'hinge', penalty='l1', alpha = 0.01, learning_rate='adaptive',max_iter=1080, eta0 = 0.01)),\n",
        "]\n",
        "\n",
        "stacking = StackingClassifier(estimators=esti_, final_estimator=RandomForestClassifier())\n",
        "\n",
        "pipes = Pipeline([\n",
        "    ('column_transform', column_transform),\n",
        "    ('model', stacking)\n",
        "])"
      ],
      "metadata": {
        "id": "ybkupJJ5-Xnh"
      },
      "id": "ybkupJJ5-Xnh",
      "execution_count": 19,
      "outputs": []
    },
    {
      "cell_type": "code",
      "source": [
        "pipes.fit(x_train,y_train)"
      ],
      "metadata": {
        "colab": {
          "base_uri": "https://localhost:8080/",
          "height": 1000
        },
        "id": "BW2xRCnIkWXX",
        "outputId": "ac4d8da3-7235-4248-bda4-6f858a2c6239"
      },
      "id": "BW2xRCnIkWXX",
      "execution_count": 21,
      "outputs": [
        {
          "output_type": "stream",
          "name": "stdout",
          "text": [
            "[LightGBM] [Info] Number of positive: 33136, number of negative: 149704\n",
            "[LightGBM] [Info] Auto-choosing row-wise multi-threading, the overhead of testing was 0.011852 seconds.\n",
            "You can set `force_row_wise=true` to remove the overhead.\n",
            "And if memory is not enough, you can set `force_col_wise=true`.\n",
            "[LightGBM] [Info] Total Bins 1520\n",
            "[LightGBM] [Info] Number of data points in the train set: 182840, number of used features: 27\n",
            "[LightGBM] [Info] [binary:BoostFromScore]: pavg=0.181229 -> initscore=-1.508040\n",
            "[LightGBM] [Info] Start training from score -1.508040\n",
            "[LightGBM] [Info] Number of positive: 26509, number of negative: 119763\n",
            "[LightGBM] [Info] Auto-choosing col-wise multi-threading, the overhead of testing was 0.041142 seconds.\n",
            "You can set `force_col_wise=true` to remove the overhead.\n",
            "[LightGBM] [Info] Total Bins 1520\n",
            "[LightGBM] [Info] Number of data points in the train set: 146272, number of used features: 27\n",
            "[LightGBM] [Info] [binary:BoostFromScore]: pavg=0.181231 -> initscore=-1.508030\n",
            "[LightGBM] [Info] Start training from score -1.508030\n",
            "[LightGBM] [Info] Number of positive: 26509, number of negative: 119763\n",
            "[LightGBM] [Info] Auto-choosing row-wise multi-threading, the overhead of testing was 0.016913 seconds.\n",
            "You can set `force_row_wise=true` to remove the overhead.\n",
            "And if memory is not enough, you can set `force_col_wise=true`.\n",
            "[LightGBM] [Info] Total Bins 1520\n",
            "[LightGBM] [Info] Number of data points in the train set: 146272, number of used features: 27\n",
            "[LightGBM] [Info] [binary:BoostFromScore]: pavg=0.181231 -> initscore=-1.508030\n",
            "[LightGBM] [Info] Start training from score -1.508030\n",
            "[LightGBM] [Info] Number of positive: 26509, number of negative: 119763\n",
            "[LightGBM] [Info] Auto-choosing row-wise multi-threading, the overhead of testing was 0.009617 seconds.\n",
            "You can set `force_row_wise=true` to remove the overhead.\n",
            "And if memory is not enough, you can set `force_col_wise=true`.\n",
            "[LightGBM] [Info] Total Bins 1520\n",
            "[LightGBM] [Info] Number of data points in the train set: 146272, number of used features: 27\n",
            "[LightGBM] [Info] [binary:BoostFromScore]: pavg=0.181231 -> initscore=-1.508030\n",
            "[LightGBM] [Info] Start training from score -1.508030\n",
            "[LightGBM] [Info] Number of positive: 26509, number of negative: 119763\n",
            "[LightGBM] [Info] Auto-choosing row-wise multi-threading, the overhead of testing was 0.009828 seconds.\n",
            "You can set `force_row_wise=true` to remove the overhead.\n",
            "And if memory is not enough, you can set `force_col_wise=true`.\n",
            "[LightGBM] [Info] Total Bins 1520\n",
            "[LightGBM] [Info] Number of data points in the train set: 146272, number of used features: 27\n",
            "[LightGBM] [Info] [binary:BoostFromScore]: pavg=0.181231 -> initscore=-1.508030\n",
            "[LightGBM] [Info] Start training from score -1.508030\n",
            "[LightGBM] [Info] Number of positive: 26508, number of negative: 119764\n",
            "[LightGBM] [Info] Auto-choosing row-wise multi-threading, the overhead of testing was 0.015752 seconds.\n",
            "You can set `force_row_wise=true` to remove the overhead.\n",
            "And if memory is not enough, you can set `force_col_wise=true`.\n",
            "[LightGBM] [Info] Total Bins 1520\n",
            "[LightGBM] [Info] Number of data points in the train set: 146272, number of used features: 27\n",
            "[LightGBM] [Info] [binary:BoostFromScore]: pavg=0.181224 -> initscore=-1.508077\n",
            "[LightGBM] [Info] Start training from score -1.508077\n"
          ]
        },
        {
          "output_type": "execute_result",
          "data": {
            "text/plain": [
              "Pipeline(steps=[('column_transform',\n",
              "                 ColumnTransformer(remainder='passthrough',\n",
              "                                   transformers=[('One_hot',\n",
              "                                                  OneHotEncoder(drop='first',\n",
              "                                                                sparse_output=False),\n",
              "                                                  [4, 5, 6, 7, 8, 12, 15, 17,\n",
              "                                                   18]),\n",
              "                                                 ('Ordinal_encoding',\n",
              "                                                  OrdinalEncoder(categories=[['Basic',\n",
              "                                                                              'Standard',\n",
              "                                                                              'Premium']]),\n",
              "                                                  [3]),\n",
              "                                                 ('standard_scaler',\n",
              "                                                  StandardScaler(),\n",
              "                                                  [0, 1, 2, 9, 10, 11, 13, 14,\n",
              "                                                   16])])),\n",
              "                ('model',\n",
              "                 StackingClassif...\n",
              "                                                               max_cat_to_onehot=None,\n",
              "                                                               max_delta_step=None,\n",
              "                                                               max_depth=None,\n",
              "                                                               max_leaves=None,\n",
              "                                                               min_child_weight=None,\n",
              "                                                               missing=nan,\n",
              "                                                               monotone_constraints=None,\n",
              "                                                               multi_strategy=None,\n",
              "                                                               n_estimators=None,\n",
              "                                                               n_jobs=None,\n",
              "                                                               num_parallel_tree=None,\n",
              "                                                               random_state=None, ...)),\n",
              "                                                ('Sgd',\n",
              "                                                 SGDClassifier(alpha=0.01,\n",
              "                                                               eta0=0.01,\n",
              "                                                               learning_rate='adaptive',\n",
              "                                                               max_iter=1080,\n",
              "                                                               penalty='l1'))],\n",
              "                                    final_estimator=RandomForestClassifier()))])"
            ],
            "text/html": [
              "<style>#sk-container-id-2 {color: black;background-color: white;}#sk-container-id-2 pre{padding: 0;}#sk-container-id-2 div.sk-toggleable {background-color: white;}#sk-container-id-2 label.sk-toggleable__label {cursor: pointer;display: block;width: 100%;margin-bottom: 0;padding: 0.3em;box-sizing: border-box;text-align: center;}#sk-container-id-2 label.sk-toggleable__label-arrow:before {content: \"▸\";float: left;margin-right: 0.25em;color: #696969;}#sk-container-id-2 label.sk-toggleable__label-arrow:hover:before {color: black;}#sk-container-id-2 div.sk-estimator:hover label.sk-toggleable__label-arrow:before {color: black;}#sk-container-id-2 div.sk-toggleable__content {max-height: 0;max-width: 0;overflow: hidden;text-align: left;background-color: #f0f8ff;}#sk-container-id-2 div.sk-toggleable__content pre {margin: 0.2em;color: black;border-radius: 0.25em;background-color: #f0f8ff;}#sk-container-id-2 input.sk-toggleable__control:checked~div.sk-toggleable__content {max-height: 200px;max-width: 100%;overflow: auto;}#sk-container-id-2 input.sk-toggleable__control:checked~label.sk-toggleable__label-arrow:before {content: \"▾\";}#sk-container-id-2 div.sk-estimator input.sk-toggleable__control:checked~label.sk-toggleable__label {background-color: #d4ebff;}#sk-container-id-2 div.sk-label input.sk-toggleable__control:checked~label.sk-toggleable__label {background-color: #d4ebff;}#sk-container-id-2 input.sk-hidden--visually {border: 0;clip: rect(1px 1px 1px 1px);clip: rect(1px, 1px, 1px, 1px);height: 1px;margin: -1px;overflow: hidden;padding: 0;position: absolute;width: 1px;}#sk-container-id-2 div.sk-estimator {font-family: monospace;background-color: #f0f8ff;border: 1px dotted black;border-radius: 0.25em;box-sizing: border-box;margin-bottom: 0.5em;}#sk-container-id-2 div.sk-estimator:hover {background-color: #d4ebff;}#sk-container-id-2 div.sk-parallel-item::after {content: \"\";width: 100%;border-bottom: 1px solid gray;flex-grow: 1;}#sk-container-id-2 div.sk-label:hover label.sk-toggleable__label {background-color: #d4ebff;}#sk-container-id-2 div.sk-serial::before {content: \"\";position: absolute;border-left: 1px solid gray;box-sizing: border-box;top: 0;bottom: 0;left: 50%;z-index: 0;}#sk-container-id-2 div.sk-serial {display: flex;flex-direction: column;align-items: center;background-color: white;padding-right: 0.2em;padding-left: 0.2em;position: relative;}#sk-container-id-2 div.sk-item {position: relative;z-index: 1;}#sk-container-id-2 div.sk-parallel {display: flex;align-items: stretch;justify-content: center;background-color: white;position: relative;}#sk-container-id-2 div.sk-item::before, #sk-container-id-2 div.sk-parallel-item::before {content: \"\";position: absolute;border-left: 1px solid gray;box-sizing: border-box;top: 0;bottom: 0;left: 50%;z-index: -1;}#sk-container-id-2 div.sk-parallel-item {display: flex;flex-direction: column;z-index: 1;position: relative;background-color: white;}#sk-container-id-2 div.sk-parallel-item:first-child::after {align-self: flex-end;width: 50%;}#sk-container-id-2 div.sk-parallel-item:last-child::after {align-self: flex-start;width: 50%;}#sk-container-id-2 div.sk-parallel-item:only-child::after {width: 0;}#sk-container-id-2 div.sk-dashed-wrapped {border: 1px dashed gray;margin: 0 0.4em 0.5em 0.4em;box-sizing: border-box;padding-bottom: 0.4em;background-color: white;}#sk-container-id-2 div.sk-label label {font-family: monospace;font-weight: bold;display: inline-block;line-height: 1.2em;}#sk-container-id-2 div.sk-label-container {text-align: center;}#sk-container-id-2 div.sk-container {/* jupyter's `normalize.less` sets `[hidden] { display: none; }` but bootstrap.min.css set `[hidden] { display: none !important; }` so we also need the `!important` here to be able to override the default hidden behavior on the sphinx rendered scikit-learn.org. See: https://github.com/scikit-learn/scikit-learn/issues/21755 */display: inline-block !important;position: relative;}#sk-container-id-2 div.sk-text-repr-fallback {display: none;}</style><div id=\"sk-container-id-2\" class=\"sk-top-container\"><div class=\"sk-text-repr-fallback\"><pre>Pipeline(steps=[(&#x27;column_transform&#x27;,\n",
              "                 ColumnTransformer(remainder=&#x27;passthrough&#x27;,\n",
              "                                   transformers=[(&#x27;One_hot&#x27;,\n",
              "                                                  OneHotEncoder(drop=&#x27;first&#x27;,\n",
              "                                                                sparse_output=False),\n",
              "                                                  [4, 5, 6, 7, 8, 12, 15, 17,\n",
              "                                                   18]),\n",
              "                                                 (&#x27;Ordinal_encoding&#x27;,\n",
              "                                                  OrdinalEncoder(categories=[[&#x27;Basic&#x27;,\n",
              "                                                                              &#x27;Standard&#x27;,\n",
              "                                                                              &#x27;Premium&#x27;]]),\n",
              "                                                  [3]),\n",
              "                                                 (&#x27;standard_scaler&#x27;,\n",
              "                                                  StandardScaler(),\n",
              "                                                  [0, 1, 2, 9, 10, 11, 13, 14,\n",
              "                                                   16])])),\n",
              "                (&#x27;model&#x27;,\n",
              "                 StackingClassif...\n",
              "                                                               max_cat_to_onehot=None,\n",
              "                                                               max_delta_step=None,\n",
              "                                                               max_depth=None,\n",
              "                                                               max_leaves=None,\n",
              "                                                               min_child_weight=None,\n",
              "                                                               missing=nan,\n",
              "                                                               monotone_constraints=None,\n",
              "                                                               multi_strategy=None,\n",
              "                                                               n_estimators=None,\n",
              "                                                               n_jobs=None,\n",
              "                                                               num_parallel_tree=None,\n",
              "                                                               random_state=None, ...)),\n",
              "                                                (&#x27;Sgd&#x27;,\n",
              "                                                 SGDClassifier(alpha=0.01,\n",
              "                                                               eta0=0.01,\n",
              "                                                               learning_rate=&#x27;adaptive&#x27;,\n",
              "                                                               max_iter=1080,\n",
              "                                                               penalty=&#x27;l1&#x27;))],\n",
              "                                    final_estimator=RandomForestClassifier()))])</pre><b>In a Jupyter environment, please rerun this cell to show the HTML representation or trust the notebook. <br />On GitHub, the HTML representation is unable to render, please try loading this page with nbviewer.org.</b></div><div class=\"sk-container\" hidden><div class=\"sk-item sk-dashed-wrapped\"><div class=\"sk-label-container\"><div class=\"sk-label sk-toggleable\"><input class=\"sk-toggleable__control sk-hidden--visually\" id=\"sk-estimator-id-17\" type=\"checkbox\" ><label for=\"sk-estimator-id-17\" class=\"sk-toggleable__label sk-toggleable__label-arrow\">Pipeline</label><div class=\"sk-toggleable__content\"><pre>Pipeline(steps=[(&#x27;column_transform&#x27;,\n",
              "                 ColumnTransformer(remainder=&#x27;passthrough&#x27;,\n",
              "                                   transformers=[(&#x27;One_hot&#x27;,\n",
              "                                                  OneHotEncoder(drop=&#x27;first&#x27;,\n",
              "                                                                sparse_output=False),\n",
              "                                                  [4, 5, 6, 7, 8, 12, 15, 17,\n",
              "                                                   18]),\n",
              "                                                 (&#x27;Ordinal_encoding&#x27;,\n",
              "                                                  OrdinalEncoder(categories=[[&#x27;Basic&#x27;,\n",
              "                                                                              &#x27;Standard&#x27;,\n",
              "                                                                              &#x27;Premium&#x27;]]),\n",
              "                                                  [3]),\n",
              "                                                 (&#x27;standard_scaler&#x27;,\n",
              "                                                  StandardScaler(),\n",
              "                                                  [0, 1, 2, 9, 10, 11, 13, 14,\n",
              "                                                   16])])),\n",
              "                (&#x27;model&#x27;,\n",
              "                 StackingClassif...\n",
              "                                                               max_cat_to_onehot=None,\n",
              "                                                               max_delta_step=None,\n",
              "                                                               max_depth=None,\n",
              "                                                               max_leaves=None,\n",
              "                                                               min_child_weight=None,\n",
              "                                                               missing=nan,\n",
              "                                                               monotone_constraints=None,\n",
              "                                                               multi_strategy=None,\n",
              "                                                               n_estimators=None,\n",
              "                                                               n_jobs=None,\n",
              "                                                               num_parallel_tree=None,\n",
              "                                                               random_state=None, ...)),\n",
              "                                                (&#x27;Sgd&#x27;,\n",
              "                                                 SGDClassifier(alpha=0.01,\n",
              "                                                               eta0=0.01,\n",
              "                                                               learning_rate=&#x27;adaptive&#x27;,\n",
              "                                                               max_iter=1080,\n",
              "                                                               penalty=&#x27;l1&#x27;))],\n",
              "                                    final_estimator=RandomForestClassifier()))])</pre></div></div></div><div class=\"sk-serial\"><div class=\"sk-item sk-dashed-wrapped\"><div class=\"sk-label-container\"><div class=\"sk-label sk-toggleable\"><input class=\"sk-toggleable__control sk-hidden--visually\" id=\"sk-estimator-id-18\" type=\"checkbox\" ><label for=\"sk-estimator-id-18\" class=\"sk-toggleable__label sk-toggleable__label-arrow\">column_transform: ColumnTransformer</label><div class=\"sk-toggleable__content\"><pre>ColumnTransformer(remainder=&#x27;passthrough&#x27;,\n",
              "                  transformers=[(&#x27;One_hot&#x27;,\n",
              "                                 OneHotEncoder(drop=&#x27;first&#x27;,\n",
              "                                               sparse_output=False),\n",
              "                                 [4, 5, 6, 7, 8, 12, 15, 17, 18]),\n",
              "                                (&#x27;Ordinal_encoding&#x27;,\n",
              "                                 OrdinalEncoder(categories=[[&#x27;Basic&#x27;,\n",
              "                                                             &#x27;Standard&#x27;,\n",
              "                                                             &#x27;Premium&#x27;]]),\n",
              "                                 [3]),\n",
              "                                (&#x27;standard_scaler&#x27;, StandardScaler(),\n",
              "                                 [0, 1, 2, 9, 10, 11, 13, 14, 16])])</pre></div></div></div><div class=\"sk-parallel\"><div class=\"sk-parallel-item\"><div class=\"sk-item\"><div class=\"sk-label-container\"><div class=\"sk-label sk-toggleable\"><input class=\"sk-toggleable__control sk-hidden--visually\" id=\"sk-estimator-id-19\" type=\"checkbox\" ><label for=\"sk-estimator-id-19\" class=\"sk-toggleable__label sk-toggleable__label-arrow\">One_hot</label><div class=\"sk-toggleable__content\"><pre>[4, 5, 6, 7, 8, 12, 15, 17, 18]</pre></div></div></div><div class=\"sk-serial\"><div class=\"sk-item\"><div class=\"sk-estimator sk-toggleable\"><input class=\"sk-toggleable__control sk-hidden--visually\" id=\"sk-estimator-id-20\" type=\"checkbox\" ><label for=\"sk-estimator-id-20\" class=\"sk-toggleable__label sk-toggleable__label-arrow\">OneHotEncoder</label><div class=\"sk-toggleable__content\"><pre>OneHotEncoder(drop=&#x27;first&#x27;, sparse_output=False)</pre></div></div></div></div></div></div><div class=\"sk-parallel-item\"><div class=\"sk-item\"><div class=\"sk-label-container\"><div class=\"sk-label sk-toggleable\"><input class=\"sk-toggleable__control sk-hidden--visually\" id=\"sk-estimator-id-21\" type=\"checkbox\" ><label for=\"sk-estimator-id-21\" class=\"sk-toggleable__label sk-toggleable__label-arrow\">Ordinal_encoding</label><div class=\"sk-toggleable__content\"><pre>[3]</pre></div></div></div><div class=\"sk-serial\"><div class=\"sk-item\"><div class=\"sk-estimator sk-toggleable\"><input class=\"sk-toggleable__control sk-hidden--visually\" id=\"sk-estimator-id-22\" type=\"checkbox\" ><label for=\"sk-estimator-id-22\" class=\"sk-toggleable__label sk-toggleable__label-arrow\">OrdinalEncoder</label><div class=\"sk-toggleable__content\"><pre>OrdinalEncoder(categories=[[&#x27;Basic&#x27;, &#x27;Standard&#x27;, &#x27;Premium&#x27;]])</pre></div></div></div></div></div></div><div class=\"sk-parallel-item\"><div class=\"sk-item\"><div class=\"sk-label-container\"><div class=\"sk-label sk-toggleable\"><input class=\"sk-toggleable__control sk-hidden--visually\" id=\"sk-estimator-id-23\" type=\"checkbox\" ><label for=\"sk-estimator-id-23\" class=\"sk-toggleable__label sk-toggleable__label-arrow\">standard_scaler</label><div class=\"sk-toggleable__content\"><pre>[0, 1, 2, 9, 10, 11, 13, 14, 16]</pre></div></div></div><div class=\"sk-serial\"><div class=\"sk-item\"><div class=\"sk-estimator sk-toggleable\"><input class=\"sk-toggleable__control sk-hidden--visually\" id=\"sk-estimator-id-24\" type=\"checkbox\" ><label for=\"sk-estimator-id-24\" class=\"sk-toggleable__label sk-toggleable__label-arrow\">StandardScaler</label><div class=\"sk-toggleable__content\"><pre>StandardScaler()</pre></div></div></div></div></div></div><div class=\"sk-parallel-item\"><div class=\"sk-item\"><div class=\"sk-label-container\"><div class=\"sk-label sk-toggleable\"><input class=\"sk-toggleable__control sk-hidden--visually\" id=\"sk-estimator-id-25\" type=\"checkbox\" ><label for=\"sk-estimator-id-25\" class=\"sk-toggleable__label sk-toggleable__label-arrow\">remainder</label><div class=\"sk-toggleable__content\"><pre>[]</pre></div></div></div><div class=\"sk-serial\"><div class=\"sk-item\"><div class=\"sk-estimator sk-toggleable\"><input class=\"sk-toggleable__control sk-hidden--visually\" id=\"sk-estimator-id-26\" type=\"checkbox\" ><label for=\"sk-estimator-id-26\" class=\"sk-toggleable__label sk-toggleable__label-arrow\">passthrough</label><div class=\"sk-toggleable__content\"><pre>passthrough</pre></div></div></div></div></div></div></div></div><div class=\"sk-item\"><div class=\"sk-label-container\"><div class=\"sk-label sk-toggleable\"><input class=\"sk-toggleable__control sk-hidden--visually\" id=\"sk-estimator-id-27\" type=\"checkbox\" ><label for=\"sk-estimator-id-27\" class=\"sk-toggleable__label sk-toggleable__label-arrow\">model: StackingClassifier</label><div class=\"sk-toggleable__content\"><pre>StackingClassifier(estimators=[(&#x27;Random_forest&#x27;, RandomForestClassifier()),\n",
              "                               (&#x27;Lightgbm&#x27;, LGBMClassifier()),\n",
              "                               (&#x27;Xgboost&#x27;,\n",
              "                                XGBClassifier(base_score=None, booster=&#x27;gbtree&#x27;,\n",
              "                                              callbacks=None,\n",
              "                                              colsample_bylevel=None,\n",
              "                                              colsample_bynode=None,\n",
              "                                              colsample_bytree=None,\n",
              "                                              device=None,\n",
              "                                              early_stopping_rounds=None,\n",
              "                                              enable_categorical=False,\n",
              "                                              eval_metric=None,\n",
              "                                              feature_types=None, gamma=...\n",
              "                                              max_cat_to_onehot=None,\n",
              "                                              max_delta_step=None,\n",
              "                                              max_depth=None, max_leaves=None,\n",
              "                                              min_child_weight=None,\n",
              "                                              missing=nan,\n",
              "                                              monotone_constraints=None,\n",
              "                                              multi_strategy=None,\n",
              "                                              n_estimators=None, n_jobs=None,\n",
              "                                              num_parallel_tree=None,\n",
              "                                              random_state=None, ...)),\n",
              "                               (&#x27;Sgd&#x27;,\n",
              "                                SGDClassifier(alpha=0.01, eta0=0.01,\n",
              "                                              learning_rate=&#x27;adaptive&#x27;,\n",
              "                                              max_iter=1080, penalty=&#x27;l1&#x27;))],\n",
              "                   final_estimator=RandomForestClassifier())</pre></div></div></div><div class=\"sk-serial\"><div class=\"sk-item\"><div class=\"sk-parallel\"><div class=\"sk-parallel-item\"><div class=\"sk-item\"><div class=\"sk-label-container\"><div class=\"sk-label sk-toggleable\"><label>Random_forest</label></div></div><div class=\"sk-serial\"><div class=\"sk-item\"><div class=\"sk-estimator sk-toggleable\"><input class=\"sk-toggleable__control sk-hidden--visually\" id=\"sk-estimator-id-28\" type=\"checkbox\" ><label for=\"sk-estimator-id-28\" class=\"sk-toggleable__label sk-toggleable__label-arrow\">RandomForestClassifier</label><div class=\"sk-toggleable__content\"><pre>RandomForestClassifier()</pre></div></div></div></div></div></div><div class=\"sk-parallel-item\"><div class=\"sk-item\"><div class=\"sk-label-container\"><div class=\"sk-label sk-toggleable\"><label>Lightgbm</label></div></div><div class=\"sk-serial\"><div class=\"sk-item\"><div class=\"sk-estimator sk-toggleable\"><input class=\"sk-toggleable__control sk-hidden--visually\" id=\"sk-estimator-id-29\" type=\"checkbox\" ><label for=\"sk-estimator-id-29\" class=\"sk-toggleable__label sk-toggleable__label-arrow\">LGBMClassifier</label><div class=\"sk-toggleable__content\"><pre>LGBMClassifier()</pre></div></div></div></div></div></div><div class=\"sk-parallel-item\"><div class=\"sk-item\"><div class=\"sk-label-container\"><div class=\"sk-label sk-toggleable\"><label>Xgboost</label></div></div><div class=\"sk-serial\"><div class=\"sk-item\"><div class=\"sk-estimator sk-toggleable\"><input class=\"sk-toggleable__control sk-hidden--visually\" id=\"sk-estimator-id-30\" type=\"checkbox\" ><label for=\"sk-estimator-id-30\" class=\"sk-toggleable__label sk-toggleable__label-arrow\">XGBClassifier</label><div class=\"sk-toggleable__content\"><pre>XGBClassifier(base_score=None, booster=&#x27;gbtree&#x27;, callbacks=None,\n",
              "              colsample_bylevel=None, colsample_bynode=None,\n",
              "              colsample_bytree=None, device=None, early_stopping_rounds=None,\n",
              "              enable_categorical=False, eval_metric=None, feature_types=None,\n",
              "              gamma=None, grow_policy=None, importance_type=None,\n",
              "              interaction_constraints=None, learning_rate=0.01, max_bin=None,\n",
              "              max_cat_threshold=None, max_cat_to_onehot=None,\n",
              "              max_delta_step=None, max_depth=None, max_leaves=None,\n",
              "              min_child_weight=None, missing=nan, monotone_constraints=None,\n",
              "              multi_strategy=None, n_estimators=None, n_jobs=None,\n",
              "              num_parallel_tree=None, random_state=None, ...)</pre></div></div></div></div></div></div><div class=\"sk-parallel-item\"><div class=\"sk-item\"><div class=\"sk-label-container\"><div class=\"sk-label sk-toggleable\"><label>Sgd</label></div></div><div class=\"sk-serial\"><div class=\"sk-item\"><div class=\"sk-estimator sk-toggleable\"><input class=\"sk-toggleable__control sk-hidden--visually\" id=\"sk-estimator-id-31\" type=\"checkbox\" ><label for=\"sk-estimator-id-31\" class=\"sk-toggleable__label sk-toggleable__label-arrow\">SGDClassifier</label><div class=\"sk-toggleable__content\"><pre>SGDClassifier(alpha=0.01, eta0=0.01, learning_rate=&#x27;adaptive&#x27;, max_iter=1080,\n",
              "              penalty=&#x27;l1&#x27;)</pre></div></div></div></div></div></div></div></div><div class=\"sk-item\"><div class=\"sk-parallel\"><div class=\"sk-parallel-item\"><div class=\"sk-item\"><div class=\"sk-label-container\"><div class=\"sk-label sk-toggleable\"><label>final_estimator</label></div></div><div class=\"sk-serial\"><div class=\"sk-item\"><div class=\"sk-estimator sk-toggleable\"><input class=\"sk-toggleable__control sk-hidden--visually\" id=\"sk-estimator-id-32\" type=\"checkbox\" ><label for=\"sk-estimator-id-32\" class=\"sk-toggleable__label sk-toggleable__label-arrow\">RandomForestClassifier</label><div class=\"sk-toggleable__content\"><pre>RandomForestClassifier()</pre></div></div></div></div></div></div></div></div></div></div></div></div></div></div>"
            ]
          },
          "metadata": {},
          "execution_count": 21
        }
      ]
    },
    {
      "cell_type": "code",
      "source": [
        "pred = pipes.predict(x_test)"
      ],
      "metadata": {
        "id": "angf8s1PlaUg"
      },
      "id": "angf8s1PlaUg",
      "execution_count": 22,
      "outputs": []
    },
    {
      "cell_type": "code",
      "source": [
        "accuracy_score(y_test,pred)"
      ],
      "metadata": {
        "colab": {
          "base_uri": "https://localhost:8080/"
        },
        "id": "y_AIqJh2lecv",
        "outputId": "299f3ddb-c924-479b-f363-9f4ec509b13d"
      },
      "id": "y_AIqJh2lecv",
      "execution_count": 24,
      "outputs": [
        {
          "output_type": "execute_result",
          "data": {
            "text/plain": [
              "0.8127225294107996"
            ]
          },
          "metadata": {},
          "execution_count": 24
        }
      ]
    },
    {
      "cell_type": "code",
      "source": [
        "confusion_matrix(y_test,pred)"
      ],
      "metadata": {
        "colab": {
          "base_uri": "https://localhost:8080/"
        },
        "id": "fBX_WupimhWq",
        "outputId": "eb558f96-f096-4123-e604-b37f691d8943"
      },
      "id": "fBX_WupimhWq",
      "execution_count": 25,
      "outputs": [
        {
          "output_type": "execute_result",
          "data": {
            "text/plain": [
              "array([[47831,  2070],\n",
              "       [ 9344,  1702]])"
            ]
          },
          "metadata": {},
          "execution_count": 25
        }
      ]
    }
  ],
  "metadata": {
    "kernelspec": {
      "display_name": "Python 3 (ipykernel)",
      "language": "python",
      "name": "python3"
    },
    "language_info": {
      "codemirror_mode": {
        "name": "ipython",
        "version": 3
      },
      "file_extension": ".py",
      "mimetype": "text/x-python",
      "name": "python",
      "nbconvert_exporter": "python",
      "pygments_lexer": "ipython3",
      "version": "3.11.2"
    },
    "colab": {
      "provenance": []
    }
  },
  "nbformat": 4,
  "nbformat_minor": 5
}